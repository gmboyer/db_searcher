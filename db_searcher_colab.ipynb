{
  "nbformat": 4,
  "nbformat_minor": 0,
  "metadata": {
    "kernelspec": {
      "display_name": "Python 3",
      "language": "python",
      "name": "python3"
    },
    "language_info": {
      "codemirror_mode": {
        "name": "ipython",
        "version": 3
      },
      "file_extension": ".py",
      "mimetype": "text/x-python",
      "name": "python",
      "nbconvert_exporter": "python",
      "pygments_lexer": "ipython3",
      "version": "3.7.3"
    },
    "colab": {
      "name": "db_searcher.ipynb",
      "provenance": [],
      "include_colab_link": true
    }
  },
  "cells": [
    {
      "cell_type": "markdown",
      "metadata": {
        "id": "view-in-github",
        "colab_type": "text"
      },
      "source": [
        "<a href=\"https://colab.research.google.com/github/gmboyer/db_searcher/blob/master/db_searcher_colab.ipynb\" target=\"_parent\"><img src=\"https://colab.research.google.com/assets/colab-badge.svg\" alt=\"Open In Colab\"/></a>"
      ]
    },
    {
      "cell_type": "markdown",
      "metadata": {
        "id": "IrRaltotSH45",
        "colab_type": "text"
      },
      "source": [
        "#DB Searcher - Google Colab edition\n",
        "\n",
        "An interactive GUI for selecting, filtering, sorting, joining, plotting, and exporting csv data.\n",
        "\n",
        "Author: G Boyer\n",
        "\n",
        "Last updated: 1/22/2019"
      ]
    },
    {
      "cell_type": "markdown",
      "metadata": {
        "id": "soVmAZUASmrQ",
        "colab_type": "text"
      },
      "source": [
        "### Step 1: Load prerequisite modules"
      ]
    },
    {
      "cell_type": "code",
      "metadata": {
        "id": "hCk1PYqzaYWt",
        "colab_type": "code",
        "colab": {},
        "cellView": "form"
      },
      "source": [
        "#@title <--- click button to load prerequisite modules\n",
        "!pip install dfply\n",
        "\n",
        "print('DB Searcher is ready.')"
      ],
      "execution_count": 0,
      "outputs": []
    },
    {
      "cell_type": "markdown",
      "metadata": {
        "id": "gYwgXw1STG2T",
        "colab_type": "text"
      },
      "source": [
        "### Step 2: Run DB Searcher"
      ]
    },
    {
      "cell_type": "code",
      "metadata": {
        "id": "YVBSNIL6dD9X",
        "colab_type": "code",
        "cellView": "form",
        "colab": {}
      },
      "source": [
        "#@title <--- click button to run DB Searcher\n",
        "### DB searcher ###\n",
        "# An interactive GUI for selecting, filtering,\n",
        "# sorting, joining, and exporting csv data.\n",
        "# Author: Grayson Boyer\n",
        "# Last updated: 12/23/2018\n",
        "\n",
        "\n",
        "# import packages\n",
        "from ipywidgets import interact, interactive, fixed, interact_manual, HBox, VBox, Output\n",
        "import ipywidgets as widgets\n",
        "from IPython.display import display, clear_output\n",
        "from dfply import *\n",
        "import pandas as pd\n",
        "import sys\n",
        "%matplotlib inline\n",
        "\n",
        "\n",
        "def main():\n",
        "\n",
        "\n",
        "    # define starting widgets\n",
        "    import_csv_form = widgets.Text(value = '', placeholder = 'name of csv to import', description = 'csv:', disabled = False)\n",
        "    condition_dropdown = widgets.Dropdown(options = ['Select', 'Sort', 'Filter', 'Join', 'Export', 'Plot'], value = 'Select', description = 'condition:', disabled = False)\n",
        "    add_button = widgets.Button(description = \"Add\")\n",
        "    remove_button = widgets.Button(description = \"Remove\")\n",
        "    search_button = widgets.Button(description = \"Search\")\n",
        "\n",
        "    # define vbox of starting widgets\n",
        "    add_search_vbox = widgets.VBox([widgets.HBox([condition_dropdown, add_button, remove_button]), widgets.HBox([import_csv_form, search_button])])\n",
        "\n",
        "    # display vbox of starting widgets\n",
        "    display(add_search_vbox)\n",
        "\n",
        "    # empty lists that will contain widget rows\n",
        "    row_widget_contents = [] # stores row widgets\n",
        "    row_type_contents = [] # stores row type as string (e.g. \"Select\", \"Sort\", \"Filter\"...)\n",
        "\n",
        "    # functions for creating select, sort, filter, join, and export rows\n",
        "    def create_select_row():\n",
        "        return widgets.Text(value = '', placeholder = 'Column(s) to select', description = 'Select:', disabled = False)\n",
        "\n",
        "    def create_sort_row():\n",
        "        return widgets.Text(value = '', placeholder = 'Column(s) to sort by', description = 'Sort by:', disabled = False)\n",
        "\n",
        "    def create_filter_row():\n",
        "        return widgets.HBox([widgets.Text(value = '', placeholder = 'Column', description = 'Filter:', disabled = False), widgets.Text(value = '', placeholder = 'e.g. > 50', description = 'Criteria:', disabled = False)])\n",
        "\n",
        "    def create_join_row():\n",
        "        return widgets.HBox([\n",
        "            widgets.Text(value = '', placeholder = 'name of csv to join', description = 'csv:', disabled = False),\n",
        "            widgets.Dropdown(options = ['inner', 'outer', 'left', 'right', 'anti'], value = 'inner', description = 'Join type:', disabled = False),\n",
        "            widgets.Text(value = '', placeholder = 'column used to join', description = 'column:', disabled = False)])\n",
        "\n",
        "    def create_export_row():\n",
        "        return widgets.Text(value = '', placeholder = 'name of exported csv', description = 'Export as:', disabled = False)\n",
        "\n",
        "    def create_plot_row():\n",
        "        return widgets.Text(value = '', placeholder = 'two variables to plot', description = 'Plot:', disabled = False)\n",
        "\n",
        "    # function that runs when the 'add row' button is clicked\n",
        "    def on_add_button_clicked(b):\n",
        "        if condition_dropdown.value == 'Select':\n",
        "            row_widget_contents.append(create_select_row())\n",
        "            row_type_contents.append('Select')\n",
        "\n",
        "        if condition_dropdown.value == 'Sort':\n",
        "            row_widget_contents.append(create_sort_row())\n",
        "            row_type_contents.append('Sort')\n",
        "\n",
        "        if condition_dropdown.value == 'Filter':\n",
        "            row_widget_contents.append(create_filter_row())\n",
        "            row_type_contents.append('Filter')\n",
        "\n",
        "        if condition_dropdown.value == 'Join':\n",
        "            row_widget_contents.append(create_join_row())\n",
        "            row_type_contents.append('Join')\n",
        "\n",
        "        if condition_dropdown.value == 'Export':\n",
        "            row_widget_contents.append(create_export_row())\n",
        "            row_type_contents.append('Export')\n",
        "\n",
        "        if condition_dropdown.value == 'Plot':\n",
        "            row_widget_contents.append(create_plot_row())\n",
        "            row_type_contents.append('Plot')\n",
        "\n",
        "        clear_output(True)\n",
        "        display(widgets.VBox(row_widget_contents + [add_search_vbox]))\n",
        "\n",
        "    # function that runs when the 'remove row' button is clicked\n",
        "    def on_remove_button_clicked(b):\n",
        "        if len(row_widget_contents) > 0:\n",
        "            row_widget_contents.pop(-1)\n",
        "            row_type_contents.pop(-1)\n",
        "            clear_output(True)\n",
        "            display(widgets.VBox(row_widget_contents + [add_search_vbox]))\n",
        "\n",
        "    # function that runs when the 'search' button is clicked\n",
        "    def on_search_button_clicked(b):\n",
        "        # clear previous output\n",
        "        clear_output(True)\n",
        "        # reset flags for exporting and plotting\n",
        "        flag_export = False\n",
        "        flag_plot = False\n",
        "\n",
        "        # load the csv that will be searched as the variable 'data'\n",
        "        try:\n",
        "            data = pd.read_csv(import_csv_form.value + '.csv')\n",
        "        except:\n",
        "            display(widgets.VBox(row_widget_contents + [add_search_vbox]))\n",
        "            print(\"Please specify a valid csv.\")\n",
        "            return\n",
        "\n",
        "        # display widgets\n",
        "        display(widgets.VBox(row_widget_contents + [add_search_vbox]))\n",
        "\n",
        "        # begin modifying the action that will be evaluated at the end\n",
        "        action = \"data\" # action starts with loaded csv contents 'data'\n",
        "        for i in range(len(row_type_contents)):\n",
        "            if row_type_contents[i] == 'Select':\n",
        "                selected_columns = [\"X['{0}']\".format(x.strip()) for x in row_widget_contents[i].value.split(',')]\n",
        "                action = action + \" >>  select(%s)\" % \", \".join(selected_columns)\n",
        "\n",
        "            if row_type_contents[i] == 'Sort':\n",
        "                selected_columns = [\"X['{0}']\".format(x.strip()) for x in row_widget_contents[i].value.split(',')]\n",
        "                action = action + \" >>  arrange(%s)\" % \", \".join(selected_columns)\n",
        "\n",
        "            if row_type_contents[i] == 'Filter':\n",
        "                action = action + \" >>  mask(X['{0}'] {1})\".format(row_widget_contents[i].children[0].value, row_widget_contents[i].children[1].value)\n",
        "\n",
        "            if row_type_contents[i] == 'Join':\n",
        "                csv_to_join = pd.read_csv(row_widget_contents[i].children[0].value + '.csv')\n",
        "                join_type = row_widget_contents[i].children[1].value\n",
        "                join_column = row_widget_contents[i].children[2].value\n",
        "                action = action + \" >> \" + join_type + \"_join(csv_to_join, by = '\" + join_column + \"')\"\n",
        "\n",
        "            if row_type_contents[i] == 'Export':\n",
        "                flag_export = True\n",
        "                export_filename = row_widget_contents[i].value\n",
        "\n",
        "            if row_type_contents[i] == 'Plot':\n",
        "                import matplotlib.pyplot as plt\n",
        "                plot_vars = [x.strip() for x in row_widget_contents[i].value.split(',')]\n",
        "                flag_plot = True\n",
        "\n",
        "\n",
        "        # print current 'search' action\n",
        "        print(action)\n",
        "\n",
        "        if flag_plot:\n",
        "            try:\n",
        "                this_df = eval(action)\n",
        "                x = plot_vars[0]\n",
        "                y = plot_vars[1]\n",
        "                plt.plot(this_df[x], this_df[y], 'ro')\n",
        "                plt.xlabel(x)\n",
        "                plt.ylabel(y)\n",
        "                plt.show()\n",
        "                display(eval(action))\n",
        "            except:\n",
        "                clear_output(True)\n",
        "                display(widgets.VBox(row_widget_contents + [add_search_vbox]))\n",
        "                print(\"Could not plot.\")\n",
        "                return\n",
        "        else:\n",
        "            # evaluate current action and display result\n",
        "            display(eval(action))\n",
        "\n",
        "        # if search result is flagged for export, export dataframe as a csv\n",
        "        if flag_export:\n",
        "            try:\n",
        "                eval(action).to_csv(export_filename + '.csv', sep=',', encoding='utf-8', index=False)\n",
        "            except:\n",
        "                clear_output(True)\n",
        "                display(widgets.VBox(row_widget_contents + [add_search_vbox]))\n",
        "                print(\"Could not export csv. If the csv is open, try closing it.\")\n",
        "                return\n",
        "\n",
        "\n",
        "\n",
        "    # specify which functions to run with buttons\n",
        "    add_button.on_click(on_add_button_clicked)\n",
        "    remove_button.on_click(on_remove_button_clicked)\n",
        "    search_button.on_click(on_search_button_clicked)\n",
        "\n",
        "\n",
        "if __name__ == '__main__':\n",
        "    main()"
      ],
      "execution_count": 0,
      "outputs": []
    },
    {
      "cell_type": "markdown",
      "metadata": {
        "id": "4HhS9siUURf5",
        "colab_type": "text"
      },
      "source": [
        "### Optional: get example csv files\n",
        "\n",
        "Explore DB searcher with example files water.csv and water2.csv."
      ]
    },
    {
      "cell_type": "code",
      "metadata": {
        "id": "lkWJTo1XSXCk",
        "colab_type": "code",
        "colab": {},
        "cellView": "form"
      },
      "source": [
        "#@title <--- click button to get example csv files\n",
        "\n",
        "import pandas as pd\n",
        "\n",
        "print('Retrieving water.csv and water2.csv from github...')\n",
        "\n",
        "for example in ['water', 'water2']:\n",
        "  url = 'https://raw.githubusercontent.com/gmboyer/db_searcher/master/'+example+'.csv'\n",
        "  df = pd.read_csv(url)\n",
        "  df.to_csv(example+'.csv', index=False)\n",
        "  print(example+'.csv is ready.')\n",
        "\n",
        "print('Example files are ready.')"
      ],
      "execution_count": 0,
      "outputs": []
    },
    {
      "cell_type": "code",
      "metadata": {
        "id": "wnR1iQmUW93D",
        "colab_type": "code",
        "colab": {}
      },
      "source": [
        ""
      ],
      "execution_count": 0,
      "outputs": []
    }
  ]
}